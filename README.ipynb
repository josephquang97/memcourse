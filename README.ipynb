{
 "cells": [
  {
   "cell_type": "markdown",
   "id": "626728d2",
   "metadata": {},
   "source": [
    "## README\n",
    "\n",
    "Information \n"
   ]
  },
  {
   "cell_type": "code",
   "execution_count": null,
   "id": "b9841a62",
   "metadata": {},
   "outputs": [],
   "source": [
    "import pandas as pd\n",
    "\n",
    "def generate_conversion(filename,output,voice1,voice2,speed,sleep):\n",
    "    df = pd.read_csv(filename,header=None)\n",
    "    XML_TAG = '<set xml=true><VOICE REQUIRED=\"NAME={name}\"><rate speed=\"{speed}\" ><silence msec=\"{time}\"/>{text}\\n'\n",
    "    NAMES = [voice1,voice2]\n",
    "    # Print (row , columns)\n",
    "    row,col = df.shape\n",
    "    # df [col] [row]\n",
    "    with open(output,'w') as fp:\n",
    "        fp.seek(0)\n",
    "        for r in range(row):\n",
    "            for c in range(col):\n",
    "                fp.write(XML_TAG.format(name=NAMES[c],speed=speed,time=sleep,text=df[c][r]))\n",
    "\n",
    "if __name__ == \"__main__\":\n",
    "    filename = \"conversation.csv\"\n",
    "    output = \"file.txt\"\n",
    "    generate_conversion(filename,output,'VW Julie', 'VW Paul', 0, 500)"
   ]
  },
  {
   "cell_type": "code",
   "execution_count": 16,
   "id": "c9bb6251-a90b-4133-b801-2ffdb3729326",
   "metadata": {},
   "outputs": [
    {
     "name": "stdout",
     "output_type": "stream",
     "text": [
      "HKEY_LOCAL_MACHINE\\SOFTWARE\\Microsoft\\Speech\\Voices\\Tokens\\TTS_MS_EN-US_DAVID_11.0\n",
      "HKEY_LOCAL_MACHINE\\SOFTWARE\\Microsoft\\Speech\\Voices\\Tokens\\TTS_MS_EN-GB_HAZEL_11.0\n",
      "HKEY_LOCAL_MACHINE\\SOFTWARE\\Microsoft\\Speech\\Voices\\Tokens\\TTS_MS_EN-US_ZIRA_11.0\n",
      "HKEY_LOCAL_MACHINE\\SOFTWARE\\Microsoft\\Speech\\Voices\\Tokens\\TTS_MS_FR-FR_HORTENSE_11.0\n",
      "HKEY_LOCAL_MACHINE\\SOFTWARE\\Microsoft\\Speech\\Voices\\Tokens\\TTS_MS_JA-JP_HARUKA_11.0\n",
      "HKEY_LOCAL_MACHINE\\SOFTWARE\\Microsoft\\Speech\\Voices\\Tokens\\TTS_MS_JA-JP_ICHIRO_11.0\n",
      "HKEY_LOCAL_MACHINE\\SOFTWARE\\Microsoft\\Speech\\Voices\\Tokens\\TTS_V110_FR-FR_PAUL_11.0\n"
     ]
    }
   ],
   "source": [
    "import pyttsx3\n",
    "# Show all voices\n",
    "engine = pyttsx3.init()\n",
    "voices = engine.getProperty('voices')\n",
    "for voice in voices:\n",
    "    print(voice.id)"
   ]
  },
  {
   "cell_type": "code",
   "execution_count": 18,
   "id": "c1ed6e5a-c61f-4ce2-99c0-0aa0e0f8b0cb",
   "metadata": {},
   "outputs": [],
   "source": [
    "FRENCH = [\n",
    "    'HKEY_LOCAL_MACHINE\\SOFTWARE\\Microsoft\\Speech\\Voices\\Tokens\\TTS_MS_FR-FR_HORTENSE_11.0',\n",
    "    'HKEY_LOCAL_MACHINE\\SOFTWARE\\Microsoft\\Speech\\Voices\\Tokens\\TTS_V110_FR-FR_PAUL_11.0'\n",
    "    ]\n",
    "ENGLISH = [\n",
    "    'HKEY_LOCAL_MACHINE\\SOFTWARE\\Microsoft\\Speech\\Voices\\Tokens\\TTS_MS_EN-GB_HAZEL_11.0',\n",
    "    'HKEY_LOCAL_MACHINE\\SOFTWARE\\Microsoft\\Speech\\Voices\\Tokens\\TTS_MS_EN-US_DAVID_11.0'\n",
    "    ]\n",
    "JAPANESE = [\n",
    "    'HKEY_LOCAL_MACHINE\\SOFTWARE\\Microsoft\\Speech\\Voices\\Tokens\\TTS_MS_JA-JP_HARUKA_11.0',\n",
    "    'HKEY_LOCAL_MACHINE\\SOFTWARE\\Microsoft\\Speech\\Voices\\Tokens\\TTS_MS_JA-JP_ICHIRO_11.0'\n",
    "    ]"
   ]
  },
  {
   "cell_type": "code",
   "execution_count": 19,
   "id": "7cfa3be6-f7c5-41ca-9879-2351e406758c",
   "metadata": {},
   "outputs": [],
   "source": [
    "VOICE1 = FRENCH[0]\n",
    "VOICE2 = FRENCH[1]\n",
    "engine.setProperty('voice', VOICE1)\n",
    "engine.say('The quick brown fox jumped over the lazy dog.')\n",
    "engine.setProperty('voice', VOICE2)\n",
    "engine.say('The quick brown fox jumped over the lazy dog.')\n",
    "engine.runAndWait()"
   ]
  },
  {
   "cell_type": "code",
   "execution_count": 32,
   "id": "c02ab6e8-ac31-4868-9a0c-b8af3788aac7",
   "metadata": {},
   "outputs": [],
   "source": [
    "generate_conversion('conversation.csv','audio.mp3',ENGLISH[0],ENGLISH[1])"
   ]
  }
 ],
 "metadata": {
  "kernelspec": {
   "display_name": "Python 3 (ipykernel)",
   "language": "python",
   "name": "python3"
  },
  "language_info": {
   "codemirror_mode": {
    "name": "ipython",
    "version": 3
   },
   "file_extension": ".py",
   "mimetype": "text/x-python",
   "name": "python",
   "nbconvert_exporter": "python",
   "pygments_lexer": "ipython3",
   "version": "3.7.8"
  }
 },
 "nbformat": 4,
 "nbformat_minor": 5
}
